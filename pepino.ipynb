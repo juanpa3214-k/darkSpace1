{
  "nbformat": 4,
  "nbformat_minor": 0,
  "metadata": {
    "colab": {
      "provenance": [],
      "authorship_tag": "ABX9TyNxw6obLjfKXK2QbL625PEs",
      "include_colab_link": true
    },
    "kernelspec": {
      "name": "python3",
      "display_name": "Python 3"
    },
    "language_info": {
      "name": "python"
    }
  },
  "cells": [
    {
      "cell_type": "markdown",
      "metadata": {
        "id": "view-in-github",
        "colab_type": "text"
      },
      "source": [
        "<a href=\"https://colab.research.google.com/github/juanpa3214-k/darkSpace1/blob/main/pepino.ipynb\" target=\"_parent\"><img src=\"https://colab.research.google.com/assets/colab-badge.svg\" alt=\"Open In Colab\"/></a>"
      ]
    },
    {
      "cell_type": "code",
      "execution_count": null,
      "metadata": {
        "colab": {
          "base_uri": "https://localhost:8080/"
        },
        "id": "lsIAJ8I0SDgg",
        "outputId": "a4cf68f6-d251-4ab0-b6cf-a6e927975553"
      },
      "outputs": [
        {
          "output_type": "stream",
          "name": "stdout",
          "text": [
            "2\n"
          ]
        }
      ],
      "source": [
        " a = 2\n",
        "print(a)"
      ]
    },
    {
      "cell_type": "code",
      "source": [
        "nombre =(\"carlos \")\n",
        "print(nombre)"
      ],
      "metadata": {
        "colab": {
          "base_uri": "https://localhost:8080/"
        },
        "id": "KZgNUPvKSbO_",
        "outputId": "1c878d8d-5aee-4a66-de4c-74589d120923"
      },
      "execution_count": null,
      "outputs": [
        {
          "output_type": "stream",
          "name": "stdout",
          "text": [
            "carlos \n"
          ]
        }
      ]
    },
    {
      "cell_type": "code",
      "source": [
        "nombre=\"carlos\"\n",
        "print(type(nombre))"
      ],
      "metadata": {
        "colab": {
          "base_uri": "https://localhost:8080/"
        },
        "id": "kPi8lopASubU",
        "outputId": "9f50304e-f684-4fdb-c985-545e0f4fd695"
      },
      "execution_count": null,
      "outputs": [
        {
          "output_type": "stream",
          "name": "stdout",
          "text": [
            "<class 'str'>\n"
          ]
        }
      ]
    },
    {
      "cell_type": "code",
      "source": [
        "nombre= \"carlos\" #me cuenta cuantos caracteres tine mi variable\n",
        "print(len(nombre))"
      ],
      "metadata": {
        "colab": {
          "base_uri": "https://localhost:8080/"
        },
        "id": "7JKddMiRTBZL",
        "outputId": "63ab5ccc-a9d9-4b0b-cfe2-036456c50d42"
      },
      "execution_count": null,
      "outputs": [
        {
          "output_type": "stream",
          "name": "stdout",
          "text": [
            "6\n"
          ]
        }
      ]
    },
    {
      "cell_type": "code",
      "source": [
        "nombre= \"carlos\"\n",
        "print(nombre[5]) #inicia la succion desde 0"
      ],
      "metadata": {
        "colab": {
          "base_uri": "https://localhost:8080/"
        },
        "id": "1JAc4nzkTPtl",
        "outputId": "618cbf85-da67-4c94-9aaf-bc591dfbb771"
      },
      "execution_count": null,
      "outputs": [
        {
          "output_type": "stream",
          "name": "stdout",
          "text": [
            "s\n"
          ]
        }
      ]
    },
    {
      "cell_type": "code",
      "source": [
        "nombre =  input    (f\"ingresa tu nombre       \" )\n",
        "print              (f\"hola, como esta {nombre}\" )"
      ],
      "metadata": {
        "colab": {
          "base_uri": "https://localhost:8080/"
        },
        "id": "4H7aHT5jTo81",
        "outputId": "7abac870-21b0-4eb1-b398-e8cb6f564e7f"
      },
      "execution_count": null,
      "outputs": [
        {
          "output_type": "stream",
          "name": "stdout",
          "text": [
            "ingresa tu nombre       juan\n",
            "hola, como esta juan\n"
          ]
        }
      ]
    },
    {
      "cell_type": "code",
      "source": [
        "a=float(input(\"digite el primer numero:\"))\n",
        "b=float(input(\"digite el segundo numero:\"))#numeros decimales float\n",
        "resultado = a*b\n",
        "print(resultado)"
      ],
      "metadata": {
        "colab": {
          "base_uri": "https://localhost:8080/"
        },
        "id": "Sd2NORJ2VCSY",
        "outputId": "ebd354f9-3cbc-47f8-f352-e75e7b635f57"
      },
      "execution_count": null,
      "outputs": [
        {
          "output_type": "stream",
          "name": "stdout",
          "text": [
            "digite el primer numero:2\n",
            "digite el segundo numero:2\n",
            "4.0\n"
          ]
        }
      ]
    },
    {
      "cell_type": "code",
      "source": [
        "#indice de masa corporal de una persona\n",
        "nombre = input(\"ingresa tu nombre:\")\n",
        "print(f\"hola {nombre},como esta:\")\n",
        "peso=float(input(\"ingrese su peso kg:\")) # input para pedir datos print(muestra)\n",
        "altura=float(input(\"ingrese su altura mts:\"))\n",
        "imc= (peso/altura**2)\n",
        "print(f\"EL IMC de esta persona es:{imc}\")\n",
        "\n"
      ],
      "metadata": {
        "colab": {
          "base_uri": "https://localhost:8080/"
        },
        "id": "Qya4_qH5WpsD",
        "outputId": "94d18573-bbfb-47cb-98b6-fff5702671a4"
      },
      "execution_count": null,
      "outputs": [
        {
          "output_type": "stream",
          "name": "stdout",
          "text": [
            "ingresa tu nombre:juan\n",
            "hola juan,como esta:\n",
            "ingrese su peso kg:-50\n",
            "ingrese su altura mts:1.56\n",
            "EL IMC de esta persona es:-20.5456936226167\n"
          ]
        }
      ]
    },
    {
      "cell_type": "markdown",
      "source": [
        "$a>b$"
      ],
      "metadata": {
        "id": "hidpGx1mmZNT"
      }
    },
    {
      "cell_type": "code",
      "source": [
        "a=5\n",
        "b=6\n",
        "print(a==b)\n",
        "print(a!=b) #diferente que\n",
        "print(a>b)\n",
        "print(a<b)\n",
        "a1=6\n",
        "b1=6\n",
        "print(a1==b1)"
      ],
      "metadata": {
        "colab": {
          "base_uri": "https://localhost:8080/"
        },
        "id": "K0wt8AzaltWF",
        "outputId": "a01a7593-114f-48b0-e220-82a74a9ad57a"
      },
      "execution_count": null,
      "outputs": [
        {
          "output_type": "stream",
          "name": "stdout",
          "text": [
            "False\n",
            "True\n",
            "False\n",
            "True\n",
            "True\n"
          ]
        }
      ]
    },
    {
      "cell_type": "code",
      "source": [
        "#ecuaciones logica simples\n",
        "a=1\n",
        "b=2\n",
        "print(a > b and b > 1)\n",
        "print(a > b or  b > 1) # si alguna se cumple da true"
      ],
      "metadata": {
        "colab": {
          "base_uri": "https://localhost:8080/"
        },
        "id": "jioIyxrjnXbz",
        "outputId": "86eefe97-53a3-441e-e338-a9036f83b935"
      },
      "execution_count": null,
      "outputs": [
        {
          "output_type": "stream",
          "name": "stdout",
          "text": [
            "False\n",
            "True\n"
          ]
        }
      ]
    },
    {
      "cell_type": "code",
      "source": [
        "#ecuaciones logica simples\n",
        "a=1\n",
        "b=2\n",
        "if a>b:         #if\"si\" no se cumple if entonce ejecuta else\n",
        "  suma =a+b\n",
        "else:\n",
        "  suma = a-b\n",
        "print(suma)"
      ],
      "metadata": {
        "colab": {
          "base_uri": "https://localhost:8080/"
        },
        "id": "oA2KFfXUojpb",
        "outputId": "f9850856-7556-4655-9f70-3c05113ce1a6"
      },
      "execution_count": null,
      "outputs": [
        {
          "output_type": "stream",
          "name": "stdout",
          "text": [
            "-1\n"
          ]
        }
      ]
    },
    {
      "cell_type": "code",
      "source": [
        "#area de un trinagulo conociendo base y altura\n",
        "base = float(input(\"ingrese base del triangulo\"))\n",
        "altura = float(input(\"ingrese base del triangulo\"))\n",
        "if base>0 and altura>0:\n",
        "  resultado= (base*altura)/2\n",
        "  print(resultado)\n",
        "else:\n",
        "  print(\"base y la altura no puede ser negativas\")\n",
        "\n",
        "\n",
        "\n"
      ],
      "metadata": {
        "colab": {
          "base_uri": "https://localhost:8080/"
        },
        "id": "9dt5UzphpT5g",
        "outputId": "8811d5f3-44d4-433c-ec9e-16b744dbe7c8"
      },
      "execution_count": null,
      "outputs": [
        {
          "output_type": "stream",
          "name": "stdout",
          "text": [
            "ingrese base del triangulo45\n",
            "ingrese base del triangulo45\n",
            "1012.5\n"
          ]
        }
      ]
    },
    {
      "cell_type": "code",
      "source": [
        "#mayor 18 años,hijo unico,sea hombre\n",
        "edad = (input(\" eres mayor a 18 años?   si: 1, no:2 \")) #enteros numeros\n",
        "if(edad==\"1\"):#es un carecter \"\"\n",
        "  print(\"adulto\")\n",
        "else:\n",
        "  print(\"no es adulto\")\n",
        "hijo = (input(\" eres hijo unico? si: 1, no:2 \")) #enteros numeros\n",
        "if(hijo==\"1\"):\n",
        "  print(\"si\")\n",
        "else:\n",
        "  print(\"no\")\n",
        "hombre= (input(\" eres hombre? si: 1, no:2 \")) #enteros numeros\n",
        "if(hombre==\"1\"):\n",
        "  print(\"adulto\")\n",
        "else:\n",
        "  print(\"no es adulto\")\n",
        "\n",
        "if edad==\"1\" and hijo==\"1\" and hombre==\"1\":\n",
        "  print(\"se fue pal ejercito\")\n",
        "else:\n",
        "   print(\"pa la house\")\n",
        "\n",
        "\n",
        "\n"
      ],
      "metadata": {
        "colab": {
          "base_uri": "https://localhost:8080/"
        },
        "id": "3xcmHkkar4qX",
        "outputId": "d8eb7e22-9b19-42d4-8bc8-3b89939de25d"
      },
      "execution_count": null,
      "outputs": [
        {
          "output_type": "stream",
          "name": "stdout",
          "text": [
            " eres mayor a 18 años?   si: 1, no:2 1\n",
            "adulto\n",
            " eres hijo unico? si: 1, no:2 1\n",
            "si\n",
            " eres hombre? si: 1, no:2 1\n",
            "adulto\n",
            "se fue pal ejercito\n"
          ]
        }
      ]
    },
    {
      "cell_type": "code",
      "source": [
        "#notas parcilaes el primeoro 30,30,40, calcule la nota finla del estudiante aprueba o no\n",
        "nota1=float(input(\"ingrese nota 1 (30%)\"))\n",
        "nota2=float(input(\"ingrese nota 2 (30%)\"))\n",
        "nota3=float(input(\"ingrese nota 3 (40%)\"))\n",
        "resultado=float((nota1*0.3+nota2*0.3+nota3*0.4))\n",
        "if nota1>=0 and nota1<=5 and nota2>=0 and nota2<=5 and nota3>=0 and nota3<=5: #prporcion de lenguaje logico if\n",
        "  print(resultado)\n",
        "  print(\"aprueba\")\n",
        "else:\n",
        "  print(resultado)\n",
        "  print(\"reprueba\")\n",
        "\n",
        "\n"
      ],
      "metadata": {
        "colab": {
          "base_uri": "https://localhost:8080/"
        },
        "id": "p53-tAd7xg61",
        "outputId": "f3d2ffe6-034f-4dc1-b449-ba937b5ae11e"
      },
      "execution_count": null,
      "outputs": [
        {
          "output_type": "stream",
          "name": "stdout",
          "text": [
            "ingrese nota 1 (30%)50\n",
            "ingrese nota 2 (30%)50\n",
            "ingrese nota 3 (40%)50\n",
            "50.0\n",
            "reprueba\n"
          ]
        }
      ]
    },
    {
      "cell_type": "code",
      "source": [
        "a=1 #numeor entero\n",
        "A=\"1\"#  cadena caracter\n",
        "a==A\n"
      ],
      "metadata": {
        "colab": {
          "base_uri": "https://localhost:8080/"
        },
        "id": "FRmHTn4V47ga",
        "outputId": "879890ce-fed2-47a1-b5da-8dcde5f562f9"
      },
      "execution_count": null,
      "outputs": [
        {
          "output_type": "execute_result",
          "data": {
            "text/plain": [
              "False"
            ]
          },
          "metadata": {},
          "execution_count": 4
        }
      ]
    },
    {
      "cell_type": "code",
      "source": [
        "from re import S\n",
        "import math\n",
        "ingrese=float(input(\"ingrese un angulo en grados\"))\n",
        "radian=math.radians\n",
        "sin=math.sin(radian)\n",
        "cos=\n",
        "tan="
      ],
      "metadata": {
        "id": "l7eJGlvI7FaK"
      },
      "execution_count": null,
      "outputs": []
    },
    {
      "cell_type": "code",
      "source": [
        "_int=18\n",
        "print(type(_int)) #para verificar el tipo de dato de la variable\n",
        "_int_to_str =str(_int)\n",
        "print(type(_int_to_str))"
      ],
      "metadata": {
        "colab": {
          "base_uri": "https://localhost:8080/"
        },
        "id": "TLSqYpHS-hEQ",
        "outputId": "eef912fd-f535-48ca-fc6c-17e75c76da5a"
      },
      "execution_count": null,
      "outputs": [
        {
          "output_type": "stream",
          "name": "stdout",
          "text": [
            "<class 'int'>\n",
            "<class 'str'>\n"
          ]
        }
      ]
    },
    {
      "cell_type": "code",
      "source": [
        "_int=18\n",
        "print(type(_int)) #para verificar el tipo de dato de la variable\n",
        "_int_to_str =str(_int) # pasa los enteors en caracteres _int_str[\"1\",\"8\"]\n",
        "print(len(_int_to_str)) # lee los caracteres de _int\n",
        "print(_int_to_str[0]) #pone la poscion de un carecter de una variable  tipo entero\n",
        "print(_int_to_str[1])"
      ],
      "metadata": {
        "colab": {
          "base_uri": "https://localhost:8080/"
        },
        "id": "H8BPk_Q1_tUy",
        "outputId": "a296427f-d73b-4f88-87c9-296c3cd81d02"
      },
      "execution_count": null,
      "outputs": [
        {
          "output_type": "stream",
          "name": "stdout",
          "text": [
            "<class 'int'>\n",
            "2\n",
            "1\n",
            "8\n"
          ]
        }
      ]
    },
    {
      "cell_type": "code",
      "source": [
        "c=\"12\" #caracter lo devuelve como nuoe rentero\n",
        "a=int(c) #me devuleve lo de la variable como numero entero\n",
        "print(c)"
      ],
      "metadata": {
        "colab": {
          "base_uri": "https://localhost:8080/"
        },
        "id": "qLaGrZPCA4tx",
        "outputId": "4b3fd1e3-642a-4ca2-a7df-105b5cae0d2a"
      },
      "execution_count": null,
      "outputs": [
        {
          "output_type": "stream",
          "name": "stdout",
          "text": [
            "12\n"
          ]
        }
      ]
    },
    {
      "cell_type": "markdown",
      "source": [],
      "metadata": {
        "id": "YYtVrfC-EK1-"
      }
    },
    {
      "cell_type": "code",
      "source": [
        "print(bool(0)) #solo este dato es false si pongo otro caracter o numeoro sera verdadero\n",
        "print(bool(1))\n",
        "print(bool(\"\")) #y tambien si esta vacio es falso\n",
        "print(bool(\"1\"))\n"
      ],
      "metadata": {
        "colab": {
          "base_uri": "https://localhost:8080/"
        },
        "id": "x1pt1HPSDSVI",
        "outputId": "1a54f85a-5139-4b6f-840f-625f9ca6402e"
      },
      "execution_count": null,
      "outputs": [
        {
          "output_type": "stream",
          "name": "stdout",
          "text": [
            "False\n",
            "True\n",
            "False\n",
            "True\n"
          ]
        }
      ]
    },
    {
      "cell_type": "code",
      "source": [
        "for n in range(6): #CICLO Y ESTE ES EL CRITERIO DE PARAR\n",
        " print(n)\n"
      ],
      "metadata": {
        "colab": {
          "base_uri": "https://localhost:8080/"
        },
        "id": "kbN8VnjMES6k",
        "outputId": "a24bf7a1-ece8-4b86-a8db-1b0833764992"
      },
      "execution_count": null,
      "outputs": [
        {
          "output_type": "stream",
          "name": "stdout",
          "text": [
            "0\n",
            "1\n",
            "2\n",
            "3\n",
            "4\n",
            "5\n"
          ]
        }
      ]
    },
    {
      "cell_type": "code",
      "source": [
        " for j in range(6): #CICLO Y ESTE ES EL CRITERIO DE PARAR\n",
        "   print(n)"
      ],
      "metadata": {
        "colab": {
          "base_uri": "https://localhost:8080/"
        },
        "id": "ykQvuzOCGvQz",
        "outputId": "4aa17598-29bd-4770-8700-02e4541bcae9"
      },
      "execution_count": null,
      "outputs": [
        {
          "output_type": "stream",
          "name": "stdout",
          "text": [
            "5\n",
            "5\n",
            "5\n",
            "5\n",
            "5\n",
            "5\n"
          ]
        }
      ]
    },
    {
      "cell_type": "code",
      "source": [
        "nombre=\"juan\"\n",
        "for j in range(len(nombre)):\n",
        " print(nombre[j])\n",
        "for j in nombre:\n",
        "  print(j)"
      ],
      "metadata": {
        "colab": {
          "base_uri": "https://localhost:8080/"
        },
        "id": "PSKn6DUTHJ7J",
        "outputId": "e33dee14-4ad6-4070-e2a8-057e6a60bb52"
      },
      "execution_count": null,
      "outputs": [
        {
          "output_type": "stream",
          "name": "stdout",
          "text": [
            "j\n",
            "u\n",
            "a\n",
            "n\n",
            "j\n",
            "u\n",
            "a\n",
            "n\n"
          ]
        }
      ]
    },
    {
      "cell_type": "code",
      "source": [
        "nombre=\"juan\"\n",
        "for j in (nombre):\n",
        "  if j==\"a\" or j==\"e\" or j==\"i\" or j==\"o\" or j==\"u\":\n",
        "    print(j)\n",
        "vocales=2\n",
        "for j in (nombre):\n",
        "  if j in \"a,e,i,o,u\":\n",
        "   vocales =vocales\n",
        "print(f\"numero de vocales: {vocales}\")\n"
      ],
      "metadata": {
        "colab": {
          "base_uri": "https://localhost:8080/"
        },
        "id": "_6dzNFAZH8gk",
        "outputId": "a170d592-9de9-4378-e633-b23145baca23"
      },
      "execution_count": null,
      "outputs": [
        {
          "output_type": "stream",
          "name": "stdout",
          "text": [
            "u\n",
            "a\n",
            "numero de vocales: 2\n"
          ]
        }
      ]
    },
    {
      "cell_type": "code",
      "source": [
        "#imprimr nombre alreves\n",
        "nombre=\"juan\"\n",
        "j=len(nombre)-1\n",
        "revez=\"\"\n",
        "for  a in range(len(nombre)):\n",
        "  revez=revez+nombre[j-a] #revez += nombre[j-a] sintaxis\n",
        "print(revez)\n"
      ],
      "metadata": {
        "colab": {
          "base_uri": "https://localhost:8080/"
        },
        "id": "uPkCY0NOOlqa",
        "outputId": "65746560-d3e3-4eeb-cd93-60bb3b168399"
      },
      "execution_count": null,
      "outputs": [
        {
          "output_type": "stream",
          "name": "stdout",
          "text": [
            "nauj\n"
          ]
        }
      ]
    },
    {
      "cell_type": "code",
      "source": [
        "#imprimr nombre alreves\n",
        "nombre=\"juan\"\n",
        "j=len(nombre)\n",
        "revez=\"\"\n",
        "for  a in range(len(nombre), 0,-1):\n",
        "  revez=revez+nombre[a-1] #revez += nombre[j-a] sintaxis\n",
        "print(revez)"
      ],
      "metadata": {
        "colab": {
          "base_uri": "https://localhost:8080/"
        },
        "id": "NFy-YVITVZqL",
        "outputId": "9646c7f5-36d6-4387-d9bc-538371ea4a02"
      },
      "execution_count": null,
      "outputs": [
        {
          "output_type": "stream",
          "name": "stdout",
          "text": [
            "nauj\n"
          ]
        }
      ]
    },
    {
      "cell_type": "code",
      "source": [
        "#solicitar numeor y si el numoer es negativo paro el programa\n",
        "suma=0\n",
        "numero= float(input(\"ingrese numero:\"))\n",
        "while numero >= 0: #repiten el bulce hasta que la condicion se destruya\n",
        "  suma += numero\n",
        "  numero= float(input(\"ingrese numero:\"))\n",
        "print(suma)\n"
      ],
      "metadata": {
        "colab": {
          "base_uri": "https://localhost:8080/"
        },
        "id": "QNHFKQjfee47",
        "outputId": "caef3053-95eb-42f4-d85b-a67194290b30"
      },
      "execution_count": null,
      "outputs": [
        {
          "output_type": "stream",
          "name": "stdout",
          "text": [
            "ingrese numero:567\n",
            "ingrese numero:698\n",
            "ingrese numero:798\n",
            "ingrese numero:-78\n",
            "2063.0\n"
          ]
        }
      ]
    },
    {
      "cell_type": "code",
      "source": [
        "#sumar los primeor 10 nuemor utilzlinaod whiele del comenzapd dle 0 y que sena par\n",
        "suma=0\n",
        "contador=0\n",
        "numero=0\n",
        "while contador <=10 :\n",
        "  if numero %2==0: #verifica que el numero es par\n",
        "    suma += numero\n",
        "    contador +=1\n",
        "  numero +=1\n",
        "print(suma)\n"
      ],
      "metadata": {
        "colab": {
          "base_uri": "https://localhost:8080/"
        },
        "id": "f8mPRPlzhLAd",
        "outputId": "668b14e3-21b7-4b06-cad2-c91bc78d9ebe"
      },
      "execution_count": null,
      "outputs": [
        {
          "output_type": "stream",
          "name": "stdout",
          "text": [
            "110\n"
          ]
        }
      ]
    },
    {
      "cell_type": "code",
      "source": [
        "#una perona ingresa datos, ingresa numoer hasta que presiona s debemos entregar el numoer max y min0\n",
        "flag=0\n",
        "nmax=-999999999999\n",
        "nmin=999999999999\n",
        "numero=input(\"ingrese numero:\")\n",
        "while numero != \"s\":\n",
        "  num=float(numero)\n",
        "  if (num> nmax):\n",
        "   nmax=num\n",
        "  if (num<nmin):\n",
        "   nmin=num\n",
        "  numero=(input(\"ingrese numero:\"))\n",
        "  flag=1\n",
        "if(flag==1):\n",
        "  print(nmax,nmin)\n",
        "else:\n",
        "    print(\"no se ingresaron numeros\")\n"
      ],
      "metadata": {
        "collapsed": true,
        "id": "Eix7NfBim3nD",
        "outputId": "f94f02ae-7a39-4c42-e3c6-ba037ebee201",
        "colab": {
          "base_uri": "https://localhost:8080/"
        }
      },
      "execution_count": null,
      "outputs": [
        {
          "output_type": "stream",
          "name": "stdout",
          "text": [
            "ingrese numero:4\n",
            "ingrese numero:4\n",
            "ingrese numero:s\n",
            "4.0 4.0\n"
          ]
        }
      ]
    },
    {
      "cell_type": "code",
      "source": [
        "# Inicializamos las variables para el máximo y mínimo\n",
        "max_num = None\n",
        "min_num = None\n",
        "\n",
        "while True:\n",
        "    # Pedimos al usuario ingresar un número o 's' para salir\n",
        "    entrada = input(\"Ingresa un número o 's' para salir: \")\n",
        "\n",
        "    if entrada == 's':  # Si el usuario ingresa 's', terminamos el bucle\n",
        "        break\n",
        "\n",
        "    try:\n",
        "        # Intentamos convertir la entrada a un número\n",
        "        numero = float(entrada)\n",
        "\n",
        "        # Establecer el valor máximo y mínimo\n",
        "        if max_num is None or numero > max_num:\n",
        "            max_num = numero\n",
        "        if min_num is None or numero < min_num:\n",
        "            min_num = numero\n",
        "    except ValueError:\n",
        "        # Si no se puede convertir a número, mostramos un mensaje de error\n",
        "        print(\"Por favor ingresa un número válido.\")\n",
        "\n",
        "# Mostramos el resultado\n",
        "if max_num is not None and min_num is not None:\n",
        "    print(f\"El número máximo ingresado es: {max_num}\")\n",
        "    print(f\"El número mínimo ingresado es: {min_num}\")\n",
        "else:\n",
        "    print(\"No se ingresaron números.\")\n"
      ],
      "metadata": {
        "id": "aoY77HUertAm",
        "outputId": "5b6d3404-ebe2-485e-cabd-d6dbed8d79ee",
        "colab": {
          "base_uri": "https://localhost:8080/"
        }
      },
      "execution_count": null,
      "outputs": [
        {
          "output_type": "stream",
          "name": "stdout",
          "text": [
            "Ingresa un número o 's' para salir: 35\n",
            "Ingresa un número o 's' para salir: 9\n",
            "Ingresa un número o 's' para salir: s\n",
            "El número máximo ingresado es: 35.0\n",
            "El número mínimo ingresado es: 9.0\n"
          ]
        }
      ]
    },
    {
      "cell_type": "code",
      "source": [
        "#sumar los numeros\n",
        "a=float(input(\"ingrese un numero:\"))\n",
        "n=float(input(\"ingrese un numeoro:\"))\n",
        "suma =a+n\n",
        "print(suma)"
      ],
      "metadata": {
        "colab": {
          "base_uri": "https://localhost:8080/"
        },
        "id": "Obry-cJrxtes",
        "outputId": "afc3d978-40c6-45d8-d504-3cf7178aa00d"
      },
      "execution_count": null,
      "outputs": [
        {
          "output_type": "stream",
          "name": "stdout",
          "text": [
            "ingrese un numero:6\n",
            "ingrese un numeoro:8\n",
            "14.0\n"
          ]
        }
      ]
    },
    {
      "cell_type": "code",
      "source": [
        "def suma(a,b):\n",
        "  suma=a+b\n",
        "  return suma\n",
        "a=float(input(\"ingrese un numero:\"))\n",
        "suma=suma(a,b)\n",
        "b=float(input(\"ingrese un numeoro:\"))\n",
        "print(suma)"
      ],
      "metadata": {
        "colab": {
          "base_uri": "https://localhost:8080/"
        },
        "id": "XikzdM47zFTl",
        "outputId": "a1bde1cc-b678-45a2-b706-4d73196fe09f"
      },
      "execution_count": null,
      "outputs": [
        {
          "output_type": "stream",
          "name": "stdout",
          "text": [
            "ingrese un numero:3\n",
            "ingrese un numeoro:3\n",
            "5.0\n"
          ]
        }
      ]
    },
    {
      "cell_type": "code",
      "source": [
        "def resta(a,b):\n",
        "  resta=a-b\n",
        "  return resta\n",
        "a=float(input(\"ingrese un numero:\"))\n",
        "b=float(input(\"ingrese un numeoro:\"))\n",
        "resta=resta(a,b)\n",
        "print(resta)\n"
      ],
      "metadata": {
        "id": "BqVose5E0yCt"
      },
      "execution_count": null,
      "outputs": []
    },
    {
      "cell_type": "code",
      "source": [
        "def multiplicacion(a,b):\n",
        "  multiplicacion=a*b\n",
        "  return multiplicacion\n",
        "a=float(input(\"ingrese un numero:\"))\n",
        "b=float(input(\"ingrese un numeoro:\"))\n",
        "multiplicacion=multiplicacion(a,b)\n",
        "print(multiplicacion)"
      ],
      "metadata": {
        "colab": {
          "base_uri": "https://localhost:8080/"
        },
        "id": "BCQR-8lH1MtW",
        "outputId": "2597a16c-194b-4942-85c5-f71a5ec87701"
      },
      "execution_count": null,
      "outputs": [
        {
          "output_type": "stream",
          "name": "stdout",
          "text": [
            "ingrese un numero:3\n",
            "ingrese un numeoro:3\n",
            "9.0\n"
          ]
        }
      ]
    },
    {
      "cell_type": "code",
      "source": [
        "def multiplicacion(a,b):\n",
        "  div>0\n",
        "  div=a/b\n",
        "  return div\n",
        "a=float(input(\"ingrese un numero:\"))\n",
        "b=float(input(\"ingrese un numeoro:\"))\n",
        "div=div(a,b)\n",
        "print(multiplicacion)"
      ],
      "metadata": {
        "id": "MHmJnJoH3uDC"
      },
      "execution_count": null,
      "outputs": []
    },
    {
      "cell_type": "code",
      "source": [
        "#calcular los primos n numoeros primos,donde n es ingresado por teclado"
      ],
      "metadata": {
        "id": "ZMRaENJ02Fei"
      },
      "execution_count": null,
      "outputs": []
    },
    {
      "cell_type": "code",
      "source": [
        "  def es_primo(numero):\n",
        "    if numero < 2:\n",
        "        return False\n",
        "    for i in range(2, int(numero**0.5) + 1):\n",
        "        if numero % i == 0:\n",
        "            return False\n",
        "    return True\n",
        "\n",
        "def primeros_n_primos(n):\n",
        "    primos = []\n",
        "    numero = 2\n",
        "    while len(primos) < n:\n",
        "        if es_primo(numero):\n",
        "            primos.append(numero)\n",
        "        numero += 1\n",
        "    return primos\n",
        "\n",
        "# Solicitar al usuario la cantidad de números primos\n",
        "try:\n",
        "    n = int(input(\"Ingrese la cantidad de números primos que desea calcular: \"))\n",
        "    if n <= 0:\n",
        "        print(\"Por favor, ingrese un número mayor que cero.\")\n",
        "    else:\n",
        "        print(f\"Los primeros {n} números primos son: {primeros_n_primos(n)}\")\n",
        "except ValueError:\n",
        "    print(\"Por favor, ingrese un número válido.\")\n"
      ],
      "metadata": {
        "colab": {
          "base_uri": "https://localhost:8080/"
        },
        "id": "1nyoqaRfbO9B",
        "outputId": "3363d734-5503-41d4-8e27-23bf5fa88d6b"
      },
      "execution_count": null,
      "outputs": [
        {
          "output_type": "stream",
          "name": "stdout",
          "text": [
            "Ingrese la cantidad de números primos que desea calcular: 890\n",
            "Los primeros 890 números primos son: [2, 3, 5, 7, 11, 13, 17, 19, 23, 29, 31, 37, 41, 43, 47, 53, 59, 61, 67, 71, 73, 79, 83, 89, 97, 101, 103, 107, 109, 113, 127, 131, 137, 139, 149, 151, 157, 163, 167, 173, 179, 181, 191, 193, 197, 199, 211, 223, 227, 229, 233, 239, 241, 251, 257, 263, 269, 271, 277, 281, 283, 293, 307, 311, 313, 317, 331, 337, 347, 349, 353, 359, 367, 373, 379, 383, 389, 397, 401, 409, 419, 421, 431, 433, 439, 443, 449, 457, 461, 463, 467, 479, 487, 491, 499, 503, 509, 521, 523, 541, 547, 557, 563, 569, 571, 577, 587, 593, 599, 601, 607, 613, 617, 619, 631, 641, 643, 647, 653, 659, 661, 673, 677, 683, 691, 701, 709, 719, 727, 733, 739, 743, 751, 757, 761, 769, 773, 787, 797, 809, 811, 821, 823, 827, 829, 839, 853, 857, 859, 863, 877, 881, 883, 887, 907, 911, 919, 929, 937, 941, 947, 953, 967, 971, 977, 983, 991, 997, 1009, 1013, 1019, 1021, 1031, 1033, 1039, 1049, 1051, 1061, 1063, 1069, 1087, 1091, 1093, 1097, 1103, 1109, 1117, 1123, 1129, 1151, 1153, 1163, 1171, 1181, 1187, 1193, 1201, 1213, 1217, 1223, 1229, 1231, 1237, 1249, 1259, 1277, 1279, 1283, 1289, 1291, 1297, 1301, 1303, 1307, 1319, 1321, 1327, 1361, 1367, 1373, 1381, 1399, 1409, 1423, 1427, 1429, 1433, 1439, 1447, 1451, 1453, 1459, 1471, 1481, 1483, 1487, 1489, 1493, 1499, 1511, 1523, 1531, 1543, 1549, 1553, 1559, 1567, 1571, 1579, 1583, 1597, 1601, 1607, 1609, 1613, 1619, 1621, 1627, 1637, 1657, 1663, 1667, 1669, 1693, 1697, 1699, 1709, 1721, 1723, 1733, 1741, 1747, 1753, 1759, 1777, 1783, 1787, 1789, 1801, 1811, 1823, 1831, 1847, 1861, 1867, 1871, 1873, 1877, 1879, 1889, 1901, 1907, 1913, 1931, 1933, 1949, 1951, 1973, 1979, 1987, 1993, 1997, 1999, 2003, 2011, 2017, 2027, 2029, 2039, 2053, 2063, 2069, 2081, 2083, 2087, 2089, 2099, 2111, 2113, 2129, 2131, 2137, 2141, 2143, 2153, 2161, 2179, 2203, 2207, 2213, 2221, 2237, 2239, 2243, 2251, 2267, 2269, 2273, 2281, 2287, 2293, 2297, 2309, 2311, 2333, 2339, 2341, 2347, 2351, 2357, 2371, 2377, 2381, 2383, 2389, 2393, 2399, 2411, 2417, 2423, 2437, 2441, 2447, 2459, 2467, 2473, 2477, 2503, 2521, 2531, 2539, 2543, 2549, 2551, 2557, 2579, 2591, 2593, 2609, 2617, 2621, 2633, 2647, 2657, 2659, 2663, 2671, 2677, 2683, 2687, 2689, 2693, 2699, 2707, 2711, 2713, 2719, 2729, 2731, 2741, 2749, 2753, 2767, 2777, 2789, 2791, 2797, 2801, 2803, 2819, 2833, 2837, 2843, 2851, 2857, 2861, 2879, 2887, 2897, 2903, 2909, 2917, 2927, 2939, 2953, 2957, 2963, 2969, 2971, 2999, 3001, 3011, 3019, 3023, 3037, 3041, 3049, 3061, 3067, 3079, 3083, 3089, 3109, 3119, 3121, 3137, 3163, 3167, 3169, 3181, 3187, 3191, 3203, 3209, 3217, 3221, 3229, 3251, 3253, 3257, 3259, 3271, 3299, 3301, 3307, 3313, 3319, 3323, 3329, 3331, 3343, 3347, 3359, 3361, 3371, 3373, 3389, 3391, 3407, 3413, 3433, 3449, 3457, 3461, 3463, 3467, 3469, 3491, 3499, 3511, 3517, 3527, 3529, 3533, 3539, 3541, 3547, 3557, 3559, 3571, 3581, 3583, 3593, 3607, 3613, 3617, 3623, 3631, 3637, 3643, 3659, 3671, 3673, 3677, 3691, 3697, 3701, 3709, 3719, 3727, 3733, 3739, 3761, 3767, 3769, 3779, 3793, 3797, 3803, 3821, 3823, 3833, 3847, 3851, 3853, 3863, 3877, 3881, 3889, 3907, 3911, 3917, 3919, 3923, 3929, 3931, 3943, 3947, 3967, 3989, 4001, 4003, 4007, 4013, 4019, 4021, 4027, 4049, 4051, 4057, 4073, 4079, 4091, 4093, 4099, 4111, 4127, 4129, 4133, 4139, 4153, 4157, 4159, 4177, 4201, 4211, 4217, 4219, 4229, 4231, 4241, 4243, 4253, 4259, 4261, 4271, 4273, 4283, 4289, 4297, 4327, 4337, 4339, 4349, 4357, 4363, 4373, 4391, 4397, 4409, 4421, 4423, 4441, 4447, 4451, 4457, 4463, 4481, 4483, 4493, 4507, 4513, 4517, 4519, 4523, 4547, 4549, 4561, 4567, 4583, 4591, 4597, 4603, 4621, 4637, 4639, 4643, 4649, 4651, 4657, 4663, 4673, 4679, 4691, 4703, 4721, 4723, 4729, 4733, 4751, 4759, 4783, 4787, 4789, 4793, 4799, 4801, 4813, 4817, 4831, 4861, 4871, 4877, 4889, 4903, 4909, 4919, 4931, 4933, 4937, 4943, 4951, 4957, 4967, 4969, 4973, 4987, 4993, 4999, 5003, 5009, 5011, 5021, 5023, 5039, 5051, 5059, 5077, 5081, 5087, 5099, 5101, 5107, 5113, 5119, 5147, 5153, 5167, 5171, 5179, 5189, 5197, 5209, 5227, 5231, 5233, 5237, 5261, 5273, 5279, 5281, 5297, 5303, 5309, 5323, 5333, 5347, 5351, 5381, 5387, 5393, 5399, 5407, 5413, 5417, 5419, 5431, 5437, 5441, 5443, 5449, 5471, 5477, 5479, 5483, 5501, 5503, 5507, 5519, 5521, 5527, 5531, 5557, 5563, 5569, 5573, 5581, 5591, 5623, 5639, 5641, 5647, 5651, 5653, 5657, 5659, 5669, 5683, 5689, 5693, 5701, 5711, 5717, 5737, 5741, 5743, 5749, 5779, 5783, 5791, 5801, 5807, 5813, 5821, 5827, 5839, 5843, 5849, 5851, 5857, 5861, 5867, 5869, 5879, 5881, 5897, 5903, 5923, 5927, 5939, 5953, 5981, 5987, 6007, 6011, 6029, 6037, 6043, 6047, 6053, 6067, 6073, 6079, 6089, 6091, 6101, 6113, 6121, 6131, 6133, 6143, 6151, 6163, 6173, 6197, 6199, 6203, 6211, 6217, 6221, 6229, 6247, 6257, 6263, 6269, 6271, 6277, 6287, 6299, 6301, 6311, 6317, 6323, 6329, 6337, 6343, 6353, 6359, 6361, 6367, 6373, 6379, 6389, 6397, 6421, 6427, 6449, 6451, 6469, 6473, 6481, 6491, 6521, 6529, 6547, 6551, 6553, 6563, 6569, 6571, 6577, 6581, 6599, 6607, 6619, 6637, 6653, 6659, 6661, 6673, 6679, 6689, 6691, 6701, 6703, 6709, 6719, 6733, 6737, 6761, 6763, 6779, 6781, 6791, 6793, 6803, 6823, 6827, 6829, 6833, 6841, 6857, 6863, 6869, 6871, 6883, 6899, 6907, 6911, 6917]\n"
          ]
        }
      ]
    },
    {
      "cell_type": "code",
      "source": [
        "#esctrucutras de datos\n",
        "#la lista, almacenar difententes datos de diferente caracteres\n",
        "lista=[12,15,\"carlos henao\"]#lista en python\n",
        "print(lista[0])\n",
        "\n",
        "\n"
      ],
      "metadata": {
        "colab": {
          "base_uri": "https://localhost:8080/"
        },
        "id": "Zr8LTpVdfwcE",
        "outputId": "f45c88bf-5a65-49a8-ed00-fb9cbd1a70a1"
      },
      "execution_count": null,
      "outputs": [
        {
          "output_type": "stream",
          "name": "stdout",
          "text": [
            "12\n"
          ]
        }
      ]
    },
    {
      "cell_type": "code",
      "source": [
        "lista=[12,15,\"carlos henao\"]#lista en python\n",
        "print(type(lista[0]))"
      ],
      "metadata": {
        "colab": {
          "base_uri": "https://localhost:8080/"
        },
        "id": "yIrjnuOYjME0",
        "outputId": "962ac1bf-7431-4050-f5c0-aa436fdfe52a"
      },
      "execution_count": null,
      "outputs": [
        {
          "output_type": "stream",
          "name": "stdout",
          "text": [
            "<class 'int'>\n"
          ]
        }
      ]
    },
    {
      "cell_type": "code",
      "source": [
        "lista=[12,15,\"carlos henao\"]#lista en python\n",
        "print(lista[1:3])"
      ],
      "metadata": {
        "id": "oPZLRYp9jT5a"
      },
      "execution_count": null,
      "outputs": []
    },
    {
      "cell_type": "code",
      "source": [
        "lista=[12,15,\"carlos henao\"]#lista en python\n",
        "print(type(lista)) # class list se conoce como un onjeto ligaod a una clase lo que quiere decir que no es una variable sino para python es un bojeto y al hacer eso seria un metodo"
      ],
      "metadata": {
        "id": "SPv8d7RfjuOn"
      },
      "execution_count": null,
      "outputs": []
    },
    {
      "cell_type": "code",
      "source": [
        "vmax=-99999999\n",
        "lista=[12,15,]#lista en python\n",
        "lista.append(20)\n",
        "print(lista)\n",
        "for i in lista:\n",
        "  if (i > vmax):\n",
        "      vmax=i\n",
        "print(vmax)"
      ],
      "metadata": {
        "id": "PcQXrfudkYwQ"
      },
      "execution_count": null,
      "outputs": []
    },
    {
      "cell_type": "code",
      "source": [
        "#realizar un meno que tenga pasta,frijoles,y hamburguesa, que agregue un nuevo plato a la lista\n",
        "ingrese=input(\"ingrese plato nuevo:\")\n",
        "lista=[\"pasta\",\"frijoles\",\"hamburguesa\",\"pan\"]\n",
        "lista.append(ingrese)\n",
        "print(type(lista))\n",
        "print(lista)\n"
      ],
      "metadata": {
        "id": "6wkv91uumk6H"
      },
      "execution_count": null,
      "outputs": []
    },
    {
      "cell_type": "code",
      "source": [],
      "metadata": {
        "id": "XRghFDhcqngE"
      },
      "execution_count": null,
      "outputs": []
    },
    {
      "cell_type": "code",
      "source": [
        "#agregar menu funcion, solicitar el plato que plato  quiere  ve en el restaurante y en esa funcion y en ese print donde muestre los platos agregados nuevos\n",
        "def agregar_plato(menu):\n",
        "    plato = input(\"Ingrese el plato que desea agregar: \")\n",
        "    menu.append(plato)\n",
        "    print(f\"El plato '{plato}' ha sido agregado al menú.\")\n",
        "    print(menu)\n",
        "\n",
        "agregar_plato(lista)\n",
        "print(lista)\n",
        "#lista.pop() #para borrar el utimo de la lista\n"
      ],
      "metadata": {
        "id": "3nUWQfV2otxK"
      },
      "execution_count": null,
      "outputs": []
    },
    {
      "cell_type": "code",
      "source": [
        "#crear otra funcion donde solicite al pedido al cliente}\n",
        "print(\"menu del dia\")\n",
        "print(\"ingrese 1 para pasta\")\n",
        "print(\"ingrese 2 para frijoles\")\n",
        "print(\"ingrese 3 para hamburguesa\")\n",
        "print(\"ingrese 4 para pan\")\n",
        "def pedir_plato(menu):\n",
        "    pedido=int(input(\"Ingrese el plato que desea pedir: \"))\n",
        "    #print(type(pedido)) pillar que tipo de dato es y como se esta ejecutando\n",
        "    if pedido>= 1  and pedido<=4 :\n",
        "        print(f\"El plato '{menu[pedido-1]}' está disponible en el menú.\")\n",
        "    else:\n",
        "        print(f\"Lo siento, el plato '{pedido}' no está disponible en el menú.\")\n",
        "pedir_plato(lista)\n"
      ],
      "metadata": {
        "id": "SRai1lpZtIOf"
      },
      "execution_count": null,
      "outputs": []
    },
    {
      "cell_type": "code",
      "source": [
        "def suma(a,b):\n",
        "  a=3\n",
        "  b=5\n",
        "  suma=a+b\n",
        "  return suma\n",
        "print(suma)\n",
        "suma(10,18)"
      ],
      "metadata": {
        "id": "bgqZ_50J5qwX"
      },
      "execution_count": null,
      "outputs": []
    },
    {
      "cell_type": "code",
      "source": [
        "def suma():\n",
        "  a=3\n",
        "  b=5\n",
        "  sum=a+b\n",
        "  return sum\n",
        "suma()\n",
        "print(sum)\n",
        "\n",
        "a=suma()\n",
        "resta(a)"
      ],
      "metadata": {
        "id": "nF4hXo2e7CRs"
      },
      "execution_count": null,
      "outputs": []
    },
    {
      "cell_type": "code",
      "source": [
        "lista= [\"frijoles\",\"mondongon\",\"pan\",\"azucar\"]\n",
        "lista.remove(\"frijoles\") #POP quita el ultimo\n",
        "print(lista)"
      ],
      "metadata": {
        "colab": {
          "base_uri": "https://localhost:8080/"
        },
        "id": "JT4yeDuWFjbU",
        "outputId": "bfcdd307-04e6-449a-df05-2e1e5e06d4b1"
      },
      "execution_count": null,
      "outputs": [
        {
          "output_type": "stream",
          "name": "stdout",
          "text": [
            "['mondongon', 'pan', 'azucar']\n"
          ]
        }
      ]
    },
    {
      "cell_type": "code",
      "source": [
        "lista=[\"juan\",\"pablo\",\"rubio\",\"lasso\"]\n",
        "lista2=[\"1\",\"2\",\"3\",\"4\"]\n",
        "restaurante=[lista,lista2]\n",
        "print(restaurante[0][2])"
      ],
      "metadata": {
        "colab": {
          "base_uri": "https://localhost:8080/"
        },
        "id": "yIquuhuVGG1x",
        "outputId": "ca17daed-57f4-46b0-cd48-cc03c5e63436"
      },
      "execution_count": null,
      "outputs": [
        {
          "output_type": "stream",
          "name": "stdout",
          "text": [
            "rubio\n"
          ]
        }
      ]
    },
    {
      "cell_type": "code",
      "source": [
        "#tupla, son estacticas\n",
        "my_tuple=(1,2,3,4)\n",
        "print(type(my_tuple))\n",
        "print(my_tuple)\n",
        "print(my_tuple[0])\n",
        "\n"
      ],
      "metadata": {
        "colab": {
          "base_uri": "https://localhost:8080/"
        },
        "id": "3aXcma34Icbu",
        "outputId": "2dc4a2b2-b549-49fd-d3d6-daf416e3f8bf"
      },
      "execution_count": null,
      "outputs": [
        {
          "output_type": "stream",
          "name": "stdout",
          "text": [
            "<class 'tuple'>\n",
            "(1, 2, 3, 4)\n",
            "1\n"
          ]
        }
      ]
    },
    {
      "cell_type": "code",
      "source": [
        "#crear una tupla con mis materias devolver la longitud o cantidad de mateirass\n",
        "my_tuple=(\"mate\",\"electronica\",\"laboratorio\",\"fisica\",\"programacion\")\n",
        "print(my_tuple)\n",
        "print(len(my_tuple)\"nuemor de materias\")\n"
      ],
      "metadata": {
        "colab": {
          "base_uri": "https://localhost:8080/"
        },
        "id": "sY-ycgXOK0Dk",
        "outputId": "2d87d8e9-7b44-4b32-ac9d-fe7730829063"
      },
      "execution_count": null,
      "outputs": [
        {
          "output_type": "stream",
          "name": "stdout",
          "text": [
            "('mate', 'electronica', 'laboratorio', 'fisica', 'programacion')\n",
            "5\n"
          ]
        }
      ]
    },
    {
      "cell_type": "code",
      "source": [
        "tupla1=(1,2,3,4)\n",
        "tupla2=(5,6,7,8)\n",
        "producto_escalar=0\n",
        "for i in range(len(tupla2)):\n",
        "  producto_escalar += tupla1[i]*tupla2[i]\n",
        "print(producto_escalar)"
      ],
      "metadata": {
        "colab": {
          "base_uri": "https://localhost:8080/"
        },
        "id": "9ooCyM5mNIuR",
        "outputId": "471c6c35-d73a-4f8b-88a9-be347f615aa1"
      },
      "execution_count": null,
      "outputs": [
        {
          "output_type": "stream",
          "name": "stdout",
          "text": [
            "70\n"
          ]
        }
      ]
    },
    {
      "cell_type": "code",
      "source": [
        "#convertilo en un afuncion\n",
        "def producto_escalar(tupla1,tupla2):\n",
        "  producto_escalar=0\n",
        "  for i in range(len(tupla2)):\n",
        "    producto_escalar += tupla1[i]*tupla2[i]\n",
        "  return producto_escalar\n",
        "\n",
        "\n",
        "  tupla1=(1,2,3,4)\n",
        "  tupla2=(5,6,7,8)\n",
        "  producto_escalar += (tupla1,tupla2)\n",
        "  print(producto_escalar)\n",
        "producto_escalar(tupla1,tupla2)"
      ],
      "metadata": {
        "colab": {
          "base_uri": "https://localhost:8080/"
        },
        "id": "xKJaUKJ2N5WT",
        "outputId": "bb99ce11-b16c-4aba-9348-6f5fa808d94b"
      },
      "execution_count": null,
      "outputs": [
        {
          "output_type": "execute_result",
          "data": {
            "text/plain": [
              "22"
            ]
          },
          "metadata": {},
          "execution_count": 154
        }
      ]
    },
    {
      "cell_type": "code",
      "source": [
        "#tupla de matris 2x2 y otra un vector de 1x2"
      ],
      "metadata": {
        "id": "rVB8QeR-PZwM"
      },
      "execution_count": null,
      "outputs": []
    },
    {
      "cell_type": "code",
      "source": [
        "tupla3=(2,1)\n",
        "tupla1=(2,4)\n",
        "tupla2=(1,5)\n",
        "tupla=(tupla1,tupla2)\n",
        "def producto_escalar(tupla,tupla3):\n",
        "  producto_escalar=0\n",
        "  for i in range(len(tupla,tupla3)):\n",
        "    producto_escalar += tupla[i]*tupla3[i]\n",
        "  return producto_escalar\n",
        "print(producto_escalar)\n",
        "producto_escalar(tupla,tupla3)"
      ],
      "metadata": {
        "colab": {
          "base_uri": "https://localhost:8080/",
          "height": 315
        },
        "id": "Dm92SES-OTwl",
        "outputId": "d6743528-a5ad-40b4-c1dd-223a9a7d1ee0"
      },
      "execution_count": null,
      "outputs": [
        {
          "output_type": "stream",
          "name": "stdout",
          "text": [
            "<function producto_escalar at 0x7aa34c583b50>\n"
          ]
        },
        {
          "output_type": "error",
          "ename": "TypeError",
          "evalue": "len() takes exactly one argument (2 given)",
          "traceback": [
            "\u001b[0;31m---------------------------------------------------------------------------\u001b[0m",
            "\u001b[0;31mTypeError\u001b[0m                                 Traceback (most recent call last)",
            "\u001b[0;32m<ipython-input-156-54991afa4038>\u001b[0m in \u001b[0;36m<cell line: 11>\u001b[0;34m()\u001b[0m\n\u001b[1;32m      9\u001b[0m   \u001b[0;32mreturn\u001b[0m \u001b[0mproducto_escalar\u001b[0m\u001b[0;34m\u001b[0m\u001b[0;34m\u001b[0m\u001b[0m\n\u001b[1;32m     10\u001b[0m \u001b[0mprint\u001b[0m\u001b[0;34m(\u001b[0m\u001b[0mproducto_escalar\u001b[0m\u001b[0;34m)\u001b[0m\u001b[0;34m\u001b[0m\u001b[0;34m\u001b[0m\u001b[0m\n\u001b[0;32m---> 11\u001b[0;31m \u001b[0mproducto_escalar\u001b[0m\u001b[0;34m(\u001b[0m\u001b[0mtupla\u001b[0m\u001b[0;34m,\u001b[0m\u001b[0mtupla3\u001b[0m\u001b[0;34m)\u001b[0m\u001b[0;34m\u001b[0m\u001b[0;34m\u001b[0m\u001b[0m\n\u001b[0m",
            "\u001b[0;32m<ipython-input-156-54991afa4038>\u001b[0m in \u001b[0;36mproducto_escalar\u001b[0;34m(tupla, tupla3)\u001b[0m\n\u001b[1;32m      5\u001b[0m \u001b[0;32mdef\u001b[0m \u001b[0mproducto_escalar\u001b[0m\u001b[0;34m(\u001b[0m\u001b[0mtupla\u001b[0m\u001b[0;34m,\u001b[0m\u001b[0mtupla3\u001b[0m\u001b[0;34m)\u001b[0m\u001b[0;34m:\u001b[0m\u001b[0;34m\u001b[0m\u001b[0;34m\u001b[0m\u001b[0m\n\u001b[1;32m      6\u001b[0m   \u001b[0mproducto_escalar\u001b[0m\u001b[0;34m=\u001b[0m\u001b[0;36m0\u001b[0m\u001b[0;34m\u001b[0m\u001b[0;34m\u001b[0m\u001b[0m\n\u001b[0;32m----> 7\u001b[0;31m   \u001b[0;32mfor\u001b[0m \u001b[0mi\u001b[0m \u001b[0;32min\u001b[0m \u001b[0mrange\u001b[0m\u001b[0;34m(\u001b[0m\u001b[0mlen\u001b[0m\u001b[0;34m(\u001b[0m\u001b[0mtupla\u001b[0m\u001b[0;34m,\u001b[0m\u001b[0mtupla3\u001b[0m\u001b[0;34m)\u001b[0m\u001b[0;34m)\u001b[0m\u001b[0;34m:\u001b[0m\u001b[0;34m\u001b[0m\u001b[0;34m\u001b[0m\u001b[0m\n\u001b[0m\u001b[1;32m      8\u001b[0m     \u001b[0mproducto_escalar\u001b[0m \u001b[0;34m+=\u001b[0m \u001b[0mtupla\u001b[0m\u001b[0;34m[\u001b[0m\u001b[0mi\u001b[0m\u001b[0;34m]\u001b[0m\u001b[0;34m*\u001b[0m\u001b[0mtupla3\u001b[0m\u001b[0;34m[\u001b[0m\u001b[0mi\u001b[0m\u001b[0;34m]\u001b[0m\u001b[0;34m\u001b[0m\u001b[0;34m\u001b[0m\u001b[0m\n\u001b[1;32m      9\u001b[0m   \u001b[0;32mreturn\u001b[0m \u001b[0mproducto_escalar\u001b[0m\u001b[0;34m\u001b[0m\u001b[0;34m\u001b[0m\u001b[0m\n",
            "\u001b[0;31mTypeError\u001b[0m: len() takes exactly one argument (2 given)"
          ]
        }
      ]
    },
    {
      "cell_type": "code",
      "source": [
        "tupla(tupla1,tupla2)\n",
        "tupla3=(2,1)\n",
        "tupla1=(2,4)\n",
        "tupla2=(1,5)\n",
        "def producto_escalar(tupla1,tupla3):\n",
        "  producto_escalar=0\n",
        "  for i in range(len(tupla3)):\n",
        "    producto_escalar += tupla1[i]*tupla3[i]\n",
        "  return producto_escalar\n",
        "print(producto_escalar)\n",
        "producto_escalar(tupla1,tupla3)\n"
      ],
      "metadata": {
        "id": "HqP4aGikSGdm"
      },
      "execution_count": null,
      "outputs": []
    },
    {
      "cell_type": "code",
      "source": [
        "def producto_escalarr(tupla1,tupla3):\n",
        "  producto_escalarr=0\n",
        "  for i in range(len(tupla3)):\n",
        "    producto_escalarr += tupla2[i]*tupla3[i]\n",
        "  return producto_escalarr\n",
        "print(producto_escalarr)\n",
        "producto_escalarr(tupla2,tupla3)"
      ],
      "metadata": {
        "id": "drNUCUXNSurx"
      },
      "execution_count": null,
      "outputs": []
    },
    {
      "cell_type": "code",
      "source": [
        "m=[]\n",
        "tupla=((2,1),(1,5))\n",
        "tupla2=(2,4)\n",
        "\n",
        "for i in range(len(tupla2)):\n",
        "    a=0\n",
        "    for k in range(len(tupla1)):\n",
        "        a += tupla[i][k]*tupla2[k]\n",
        "    m.append(a)\n",
        "print(m)\n"
      ],
      "metadata": {
        "id": "4CZrzHwJaYHL",
        "collapsed": true
      },
      "execution_count": null,
      "outputs": []
    },
    {
      "cell_type": "code",
      "source": [
        "#estructuras de datos (conjutnos o sets), me permite  interactuar con los conjunto0s matematicos\n",
        "my_set={5,2,2,9,4,\"q\"} # estab contenidos enneste conjunto osea noo hay orden, lo que implica no tener posicion fija, ademas elimina el dato repetido de myset,peromite obtener datos de varia naturalwza\n",
        "print(type(my_set))\n",
        "print(my_set)"
      ],
      "metadata": {
        "id": "qDROUGtlbWCY",
        "colab": {
          "base_uri": "https://localhost:8080/"
        },
        "outputId": "768719da-78c9-4877-fe68-144f63df7aec"
      },
      "execution_count": 3,
      "outputs": [
        {
          "output_type": "stream",
          "name": "stdout",
          "text": [
            "<class 'set'>\n",
            "{2, 4, 5, 9, 'q'}\n"
          ]
        }
      ]
    },
    {
      "cell_type": "code",
      "source": [
        "#tareas 1)la unionnde conjunotos,la interseccion de conjunts0,\n",
        "conjuntos :\n",
        "A={1,2,3,4,5}\n",
        "B={3,4,5,6,}\n"
      ],
      "metadata": {
        "id": "5HUTcBCoqRUX"
      },
      "execution_count": null,
      "outputs": []
    },
    {
      "cell_type": "code",
      "source": [
        "#intercepcion\n",
        "a={1,2,3,4,5}\n",
        "b={3,4,5,6,}\n",
        "intercepcion=a.intersection(b)\n",
        "print(intercepcion)"
      ],
      "metadata": {
        "colab": {
          "base_uri": "https://localhost:8080/"
        },
        "id": "DoZJMSBirPTe",
        "outputId": "28ea88cb-14f8-48ec-ed48-e46d3af0adf7"
      },
      "execution_count": 8,
      "outputs": [
        {
          "output_type": "stream",
          "name": "stdout",
          "text": [
            "{3, 4, 5}\n"
          ]
        }
      ]
    },
    {
      "cell_type": "code",
      "source": [
        "#primer metodo = union\n",
        "set_1={1,2,3,4,5}\n",
        "set_2={4,5,6,7,8}\n",
        "union= set_1.union(set_2)\n",
        "print(union)"
      ],
      "metadata": {
        "colab": {
          "base_uri": "https://localhost:8080/"
        },
        "id": "AEQGIPzWqhZN",
        "outputId": "830ec0ef-96a1-4f5d-8d8b-1d79fb657eef"
      },
      "execution_count": 4,
      "outputs": [
        {
          "output_type": "stream",
          "name": "stdout",
          "text": [
            "{1, 2, 3, 4, 5, 6, 7, 8}\n"
          ]
        }
      ]
    },
    {
      "cell_type": "code",
      "source": [
        " #devolver los elemnetos de que esten en b y los de b que esten en a\n",
        "set_1={1,2,3,4,5}\n",
        "set_2={1,3,5}\n",
        "diferencia=set_1.difference(set_2)\n",
        "print(diferencia)"
      ],
      "metadata": {
        "colab": {
          "base_uri": "https://localhost:8080/"
        },
        "id": "3oxyUSRir8K5",
        "outputId": "9b0d305c-6681-4a52-f9e4-321dc39b0227"
      },
      "execution_count": 9,
      "outputs": [
        {
          "output_type": "stream",
          "name": "stdout",
          "text": [
            "{2, 4}\n"
          ]
        }
      ]
    },
    {
      "cell_type": "code",
      "source": [
        "#devolver los elementos de b(set_2) que no esten en a(set_1)\n",
        "set_1={1,2,3,4,5}\n",
        "set_2={1,3,5}\n",
        "diferencia=set_2.difference(set_1)\n",
        "print(diferencia)"
      ],
      "metadata": {
        "colab": {
          "base_uri": "https://localhost:8080/"
        },
        "id": "XV7c01wBsS7O",
        "outputId": "f145c86c-d8fb-4cc5-afa9-82ce2d455236"
      },
      "execution_count": 10,
      "outputs": [
        {
          "output_type": "stream",
          "name": "stdout",
          "text": [
            "set()\n"
          ]
        }
      ]
    },
    {
      "cell_type": "code",
      "source": [
        "#sea A={1,2,3,4} y B={5,6,7,8}\n",
        "#elabore  un programa que evalue si los 2 conjunots son diajuntos o mutuamwnte excluyentes ayuda metodm:isdisjoin()\n",
        "A={1,2,3,4}\n",
        "B={5,6,7,8}\n",
        "print(A.isdisjoint(B))#para verificar que la condicion sea correcta\n",
        "if A.isdisjoint(B):\n",
        "  print(\"son disjuntos\")\n",
        "else:\n",
        "  print(\"no son disjuntos\") #consultar mas tecnicas de estas \"metodos de conjuntos\""
      ],
      "metadata": {
        "colab": {
          "base_uri": "https://localhost:8080/"
        },
        "id": "qBgwbMV-shfS",
        "outputId": "9b07b88e-852e-4d77-e6b2-7593d072ab72"
      },
      "execution_count": 12,
      "outputs": [
        {
          "output_type": "stream",
          "name": "stdout",
          "text": [
            "True\n",
            "son disjuntos\n"
          ]
        }
      ]
    },
    {
      "cell_type": "code",
      "source": [
        "#diccionario crear, es un aestrcutura que uno puede organizar los datos de manera partcicualr donde estabkesco parametros clave, valor\n",
        "#clave=etiqueta y valor= cada uno d elos registros que va tomando esa etiqueta\n",
        "diccionario ={\"NOMBRE\":\"JUAN\",    \"EDAD\":21,    \"ALTURA\":1.73} #SON ESPECIFICOS DE CADA MEOTODO EN ESTE CADO EL DICCIONARIO\n",
        "print(diccionario)\n",
        "print(diccionario[\"NOMBRE\"])\n"
      ],
      "metadata": {
        "colab": {
          "base_uri": "https://localhost:8080/"
        },
        "id": "-7mkLkZvt3FH",
        "outputId": "5f55c64f-30de-434a-ece6-34de24ad4e0f"
      },
      "execution_count": 14,
      "outputs": [
        {
          "output_type": "stream",
          "name": "stdout",
          "text": [
            "{'NOMBRE': 'JUAN', 'EDAD': 21, 'ALTURA': 1.73}\n",
            "JUAN\n"
          ]
        }
      ]
    },
    {
      "cell_type": "code",
      "source": [
        "diccionario ={\"NOMBRE\":\"JUAN\",    \"EDAD\":21,    \"ALTURA\":1.73} #SON ESPECIFICOS DE CADA MEOTODO EN ESTE CADO EL DICCIONARIO\n",
        "diccionario.get(\"NOMBRE\")\n",
        "diccionario.get(\"apellifdo\",\"clave no encontrada\")"
      ],
      "metadata": {
        "colab": {
          "base_uri": "https://localhost:8080/",
          "height": 36
        },
        "id": "qsw_8okRvcKv",
        "outputId": "2f341b0d-f5df-4399-fa48-89af5f7235ee"
      },
      "execution_count": 18,
      "outputs": [
        {
          "output_type": "execute_result",
          "data": {
            "text/plain": [
              "'clave no encontrada'"
            ],
            "application/vnd.google.colaboratory.intrinsic+json": {
              "type": "string"
            }
          },
          "metadata": {},
          "execution_count": 18
        }
      ]
    },
    {
      "cell_type": "code",
      "source": [
        "diccionario ={\"NOMBRE\":\"JUAN\",    \"EDAD\":21,    \"ALTURA\":1.73} # me da los valores de cada clave o etiqueta d el diccionario\n",
        "print(diccionario.values())"
      ],
      "metadata": {
        "colab": {
          "base_uri": "https://localhost:8080/"
        },
        "id": "3X5f-NNVwchj",
        "outputId": "e9b6381e-0ffc-435c-86c9-6db9d0717ee4"
      },
      "execution_count": 19,
      "outputs": [
        {
          "output_type": "stream",
          "name": "stdout",
          "text": [
            "dict_values(['JUAN', 21, 1.73])\n"
          ]
        }
      ]
    },
    {
      "cell_type": "code",
      "source": [
        "diccionario ={\"NOMBRE\":\"JUAN\",    \"EDAD\":21,    \"ALTURA\":1.73}\n",
        "print(diccionario.keys())"
      ],
      "metadata": {
        "colab": {
          "base_uri": "https://localhost:8080/"
        },
        "id": "n3wDISnlw2sY",
        "outputId": "5ed74f02-7496-41ab-aa41-b69723d0b707"
      },
      "execution_count": 20,
      "outputs": [
        {
          "output_type": "stream",
          "name": "stdout",
          "text": [
            "dict_keys(['NOMBRE', 'EDAD', 'ALTURA'])\n"
          ]
        }
      ]
    },
    {
      "cell_type": "code",
      "source": [
        "diccionario ={\"luis\":{\"estatura\":1.65,\"peso\":65,\"edad\":20},\"sebastian\":{\"estatura\":1.70,\"peso\":65,\"edad\":20}}\n",
        "print(diccionario)\n",
        "print(diccionario[\"luis\"][\"peso\"])\n",
        "print(diccionario[\"sebastian\"][\"estatura\"])\n",
        "diccionario[\"luis\"][\"peso\"]=70\n",
        "print(diccionario[\"luis\"])\n",
        "\n"
      ],
      "metadata": {
        "colab": {
          "base_uri": "https://localhost:8080/"
        },
        "id": "CZBKTMBkxFwo",
        "outputId": "c4e3716c-bea9-4e60-93ee-ef33135d2456"
      },
      "execution_count": 35,
      "outputs": [
        {
          "output_type": "stream",
          "name": "stdout",
          "text": [
            "{'luis': {'estatura': 1.65, 'peso': 65, 'edad': 20}, 'sebastian': {'estatura': 1.7, 'peso': 65, 'edad': 20}}\n",
            "65\n",
            "1.7\n",
            "{'estatura': 1.65, 'peso': 70, 'edad': 20}\n"
          ]
        }
      ]
    },
    {
      "cell_type": "code",
      "source": [
        "new= {\"estatura\":1.73,\"peso\":64,\"edad\":20}\n",
        "diccionario[\"sebastian\"].update(new)\n",
        "print(diccionario[\"sebastian\"])"
      ],
      "metadata": {
        "colab": {
          "base_uri": "https://localhost:8080/"
        },
        "id": "WUcTpFIsz7Cr",
        "outputId": "968e25dd-86fe-4309-b5d0-2f2cefee9481"
      },
      "execution_count": 37,
      "outputs": [
        {
          "output_type": "stream",
          "name": "stdout",
          "text": [
            "{'estatura': 1.73, 'peso': 64, 'edad': 20}\n"
          ]
        }
      ]
    },
    {
      "cell_type": "code",
      "source": [
        "diccionario = {\"sujeto\":{\"edad\":18,\"nombre\":\"ana\",\"ciudad\":\"cucuta\"}}\n",
        "print(diccionario)\n",
        "print(diccionario.values())\n",
        "print(diccionario[\"sujeto\"][\"edad\"])\n",
        "print(diccionario[\"sujeto\"][\"nombre\"])\n",
        "print(diccionario[\"sujeto\"][\"ciudad\"])\n",
        "print(diccionario.keys())\n",
        "diccionario[\"sujeto\"][\"ciudad\"]=\"pereira\"\n",
        "print(diccionario[\"sujeto\"])\n",
        "new= {\"edad\":33,\"nombre\":\"paola\",\"ciudad\":\"armenia\"}\n",
        "diccionario[\"sujeto\"].update(new)\n",
        "print(diccionario[\"sujeto\"])\n"
      ],
      "metadata": {
        "colab": {
          "base_uri": "https://localhost:8080/"
        },
        "id": "0CrERcSD0yfj",
        "outputId": "0759a40a-8428-4c9b-9298-16e098652dd4"
      },
      "execution_count": 55,
      "outputs": [
        {
          "output_type": "stream",
          "name": "stdout",
          "text": [
            "{'sujeto': {'edad': 18, 'nombre': 'ana', 'ciudad': 'cucuta'}}\n",
            "dict_values([{'edad': 18, 'nombre': 'ana', 'ciudad': 'cucuta'}])\n",
            "18\n",
            "ana\n",
            "cucuta\n",
            "dict_keys(['sujeto'])\n",
            "{'edad': 18, 'nombre': 'ana', 'ciudad': 'pereira'}\n",
            "{'edad': 33, 'nombre': 'paola', 'ciudad': 'armenia'}\n"
          ]
        }
      ]
    },
    {
      "cell_type": "code",
      "source": [
        "diccionario = {\"pacientes\":{\"tatiana\":{\"edad\":6,\"peso\":45,\"estatura\":1.38},\"carlos\":{\"edad\":6,\"peso\":45,\"estatura\":1.38}}}\n",
        "print(diccionario)\n"
      ],
      "metadata": {
        "colab": {
          "base_uri": "https://localhost:8080/"
        },
        "id": "IH-v7Udo4Wym",
        "outputId": "599735f1-2936-4abe-a03f-0a5ad498fd16"
      },
      "execution_count": 58,
      "outputs": [
        {
          "output_type": "stream",
          "name": "stdout",
          "text": [
            "{'pacientes': {'tatiana': {'edad': 6, 'peso': 45, 'estatura': 1.38}, 'carlos': {'edad': 6, 'peso': 45, 'estatura': 1.38}}}\n"
          ]
        }
      ]
    },
    {
      "cell_type": "code",
      "source": [
        "diccionario = {\"telefonica\"}"
      ],
      "metadata": {
        "id": "GThzCBvE7hhY"
      },
      "execution_count": null,
      "outputs": []
    }
  ]
}